{
  "nbformat": 4,
  "nbformat_minor": 0,
  "metadata": {
    "colab": {
      "provenance": [],
      "authorship_tag": "ABX9TyPMS4DX2HebENr3NNO4l16D",
      "include_colab_link": true
    },
    "kernelspec": {
      "name": "python3",
      "display_name": "Python 3"
    },
    "language_info": {
      "name": "python"
    }
  },
  "cells": [
    {
      "cell_type": "markdown",
      "metadata": {
        "id": "view-in-github",
        "colab_type": "text"
      },
      "source": [
        "<a href=\"https://colab.research.google.com/github/chandureddy1505/python-Examples/blob/main/ASG_1.ipynb\" target=\"_parent\"><img src=\"https://colab.research.google.com/assets/colab-badge.svg\" alt=\"Open In Colab\"/></a>"
      ]
    },
    {
      "cell_type": "code",
      "execution_count": 1,
      "metadata": {
        "colab": {
          "base_uri": "https://localhost:8080/"
        },
        "id": "agrPUsfaZgqL",
        "outputId": "9b0b4842-c3d7-454c-8563-a0798b58da78"
      },
      "outputs": [
        {
          "output_type": "stream",
          "name": "stdout",
          "text": [
            "10 <class 'int'>\n",
            "20.5 <class 'float'>\n",
            "Hello, World! <class 'str'>\n",
            "True <class 'bool'>\n"
          ]
        }
      ],
      "source": [
        "int_var = 10\n",
        "float_var = 20.5\n",
        "str_var = \"Hello, World!\"\n",
        "bool_var = True\n",
        "\n",
        "print(int_var, type(int_var))\n",
        "print(float_var, type(float_var))\n",
        "print(str_var, type(str_var))\n",
        "print(bool_var, type(bool_var))\n"
      ]
    }
  ]
}