{
  "nbformat": 4,
  "nbformat_minor": 0,
  "metadata": {
    "colab": {
      "provenance": [],
      "authorship_tag": "ABX9TyO4q/FfmY0RLFus0cPHxRUK",
      "include_colab_link": true
    },
    "kernelspec": {
      "name": "python3",
      "display_name": "Python 3"
    },
    "language_info": {
      "name": "python"
    }
  },
  "cells": [
    {
      "cell_type": "markdown",
      "metadata": {
        "id": "view-in-github",
        "colab_type": "text"
      },
      "source": [
        "<a href=\"https://colab.research.google.com/github/chandureddy1505/python-Examples/blob/main/ASG_5.ipynb\" target=\"_parent\"><img src=\"https://colab.research.google.com/assets/colab-badge.svg\" alt=\"Open In Colab\"/></a>"
      ]
    },
    {
      "cell_type": "code",
      "execution_count": 4,
      "metadata": {
        "colab": {
          "base_uri": "https://localhost:8080/"
        },
        "id": "TM4BTGjaHTFa",
        "outputId": "cf9c49eb-d148-4d49-bf92-bb79b51f1892"
      },
      "outputs": [
        {
          "output_type": "stream",
          "name": "stdout",
          "text": [
            "5\n",
            "1\n",
            "2\n",
            "3\n",
            "4\n",
            "5\n",
            "15\n",
            "4\n",
            "16\n"
          ]
        }
      ],
      "source": [
        "# Task 1\n",
        "n = int(input())\n",
        "for i in range(1, n+1):\n",
        "    print(i)\n",
        "\n",
        "sum_numbers = 0\n",
        "i = 1\n",
        "while i <= n:\n",
        "    sum_numbers += i\n",
        "    i += 1\n",
        "print(sum_numbers)\n",
        "\n",
        "# Task 2\n",
        "def calculate_square(n):\n",
        "    return n * n\n",
        "\n",
        "n = int(input())\n",
        "result = calculate_square(n)\n",
        "print(result)\n",
        "\n"
      ]
    }
  ]
}