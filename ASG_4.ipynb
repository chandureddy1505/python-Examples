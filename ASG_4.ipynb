{
  "nbformat": 4,
  "nbformat_minor": 0,
  "metadata": {
    "colab": {
      "provenance": [],
      "authorship_tag": "ABX9TyNWAJ2YhhZYoatwInVQWWH8",
      "include_colab_link": true
    },
    "kernelspec": {
      "name": "python3",
      "display_name": "Python 3"
    },
    "language_info": {
      "name": "python"
    }
  },
  "cells": [
    {
      "cell_type": "markdown",
      "metadata": {
        "id": "view-in-github",
        "colab_type": "text"
      },
      "source": [
        "<a href=\"https://colab.research.google.com/github/chandureddy1505/python-Examples/blob/main/ASG_4.ipynb\" target=\"_parent\"><img src=\"https://colab.research.google.com/assets/colab-badge.svg\" alt=\"Open In Colab\"/></a>"
      ]
    },
    {
      "cell_type": "code",
      "execution_count": 3,
      "metadata": {
        "colab": {
          "base_uri": "https://localhost:8080/"
        },
        "id": "TM4BTGjaHTFa",
        "outputId": "eab1cd2c-aaa4-480e-8fda-1d7034777846"
      },
      "outputs": [
        {
          "output_type": "stream",
          "name": "stdout",
          "text": [
            "20\n",
            "110\n"
          ]
        }
      ],
      "source": [
        "n = int(input())\n",
        "sum_even = 0\n",
        "\n",
        "for i in range(2, n+1, 2):\n",
        "    sum_even += i\n",
        "\n",
        "print(sum_even)\n"
      ]
    }
  ]
}