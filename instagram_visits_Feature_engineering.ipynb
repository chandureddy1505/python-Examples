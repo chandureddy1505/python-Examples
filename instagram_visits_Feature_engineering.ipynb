{
  "nbformat": 4,
  "nbformat_minor": 0,
  "metadata": {
    "colab": {
      "provenance": [],
      "authorship_tag": "ABX9TyPLtnubMHpExqdhlFTZKbv4"
    },
    "kernelspec": {
      "name": "python3",
      "display_name": "Python 3"
    },
    "language_info": {
      "name": "python"
    }
  },
  "cells": [
    {
      "cell_type": "code",
      "execution_count": 1,
      "metadata": {
        "id": "1hcpmAtmMFWP"
      },
      "outputs": [],
      "source": [
        "import pandas as pd\n",
        "import numpy as np\n",
        "from sklearn.linear_model import LogisticRegression\n",
        "from sklearn.feature_selection import SelectKBest, chi2, RFE\n",
        "from numpy import set_printoptions"
      ]
    },
    {
      "cell_type": "code",
      "source": [
        "filename = \"/content/Instagram_visits.csv\"\n",
        "dataframe = pd.read_csv(filename)\n",
        "dataframe.columns = [\"User_ID\", \"Instagram_visit_score\", \"Spending_rank\"]\n",
        "dataframe[\"Instagram_visit_score\"] = pd.to_numeric(dataframe[\"Instagram_visit_score\"], errors=\"coerce\")\n",
        "dataframe[\"Spending_rank\"] = pd.to_numeric(dataframe[\"Spending_rank\"], errors=\"coerce\")"
      ],
      "metadata": {
        "id": "TBUc4eVLMluQ"
      },
      "execution_count": 3,
      "outputs": []
    },
    {
      "cell_type": "code",
      "source": [
        "X = dataframe[[\"Instagram_visit_score\", \"Spending_rank\"]].values\n",
        "Y = dataframe[\"Spending_rank\"].values"
      ],
      "metadata": {
        "id": "7pi588gPMzUk"
      },
      "execution_count": 4,
      "outputs": []
    },
    {
      "cell_type": "code",
      "source": [
        "test = SelectKBest(score_func=chi2, k=1)\n",
        "fit = test.fit(X, Y)\n",
        "features = fit.transform(X)\n",
        "set_printoptions(precision=3)\n",
        "print(fit.scores_)\n",
        "print(features)"
      ],
      "metadata": {
        "colab": {
          "base_uri": "https://localhost:8080/"
        },
        "id": "fzD-E9veM4BY",
        "outputId": "26879530-f1ff-48c2-ea60-cfd879cf291c"
      },
      "execution_count": 5,
      "outputs": [
        {
          "output_type": "stream",
          "name": "stdout",
          "text": [
            "[9.051e+02 1.575e+06]\n",
            "[[ 51]\n",
            " [100]\n",
            " [ 41]\n",
            " ...\n",
            " [ 75]\n",
            " [ 89]\n",
            " [ 25]]\n"
          ]
        }
      ]
    },
    {
      "cell_type": "code",
      "source": [
        "model = LogisticRegression(solver=\"liblinear\")\n",
        "rfe = RFE(estimator=model, n_features_to_select=1)\n",
        "fit = rfe.fit(X, Y)\n",
        "print(fit.n_features_)\n",
        "print(fit.support_)"
      ],
      "metadata": {
        "colab": {
          "base_uri": "https://localhost:8080/"
        },
        "id": "G56fSIkcNO8U",
        "outputId": "d9a65416-eae5-4eaa-f607-fb0e95f2f8b3"
      },
      "execution_count": 8,
      "outputs": [
        {
          "output_type": "stream",
          "name": "stdout",
          "text": [
            "1\n",
            "[False  True]\n"
          ]
        }
      ]
    }
  ]
}